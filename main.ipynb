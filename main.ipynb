{
 "cells": [
  {
   "cell_type": "code",
   "execution_count": 1,
   "id": "1d258a65",
   "metadata": {},
   "outputs": [],
   "source": [
    "import numpy as np\n",
    "import pandas as pd\n",
    "from torch.utils.data import DataLoader\n",
    "import json"
   ]
  },
  {
   "cell_type": "code",
   "execution_count": 2,
   "id": "d174ad73",
   "metadata": {},
   "outputs": [],
   "source": [
    "import dataset"
   ]
  },
  {
   "cell_type": "code",
   "execution_count": 3,
   "id": "24fcc624",
   "metadata": {},
   "outputs": [],
   "source": [
    "CONFIG = json.load(open('config.json'))"
   ]
  },
  {
   "cell_type": "code",
   "execution_count": 4,
   "id": "8c7ff84c",
   "metadata": {},
   "outputs": [
    {
     "name": "stdout",
     "output_type": "stream",
     "text": [
      "Into folder: Dataset/Not/Argetina\n",
      "\tSegmentize file: CBERS_4A_WPM_20210416_219_155_L2_BAND1.tif\n",
      "\t\tFile Shape: (14879, 14498, 3)\n",
      "\t\tImages div: 1/537932, 0%\n",
      "\t\tImages div: 53794/537932, 10%\n",
      "\tSegmentize file: CBERS_4A_WPM_20210416_219_155_L2_BAND2.tif\n",
      "\t\tFile Shape: (14879, 14498, 3)\n",
      "\t\tImages div: 1/537932, 0%\n",
      "\t\tImages div: 53794/537932, 10%\n",
      "\tSegmentize file: CBERS_4A_WPM_20210416_219_155_L2_BAND3.tif\n",
      "\t\tFile Shape: (14879, 14498, 3)\n",
      "\t\tImages div: 1/537932, 0%\n",
      "\t\tImages div: 53794/537932, 10%\n",
      "\tSegmentize file: CBERS_4A_WPM_20210416_219_155_L2_BAND4.tif\n",
      "\t\tFile Shape: (14879, 14498, 3)\n",
      "\t\tImages div: 1/537932, 0%\n",
      "\t\tImages div: 53794/537932, 10%\n",
      "\tJoinBands\n",
      "Total de data input: 53794\n",
      "Dimension data input: (20, 20, 4, 3)\n"
     ]
    }
   ],
   "source": [
    "data = dataset.download_dataset()"
   ]
  },
  {
   "cell_type": "code",
   "execution_count": 5,
   "id": "bac10476",
   "metadata": {},
   "outputs": [],
   "source": [
    "normalized_data = dataset.Normalizer.transform(data)"
   ]
  },
  {
   "cell_type": "code",
   "execution_count": 6,
   "id": "d76dacc0",
   "metadata": {},
   "outputs": [],
   "source": [
    "data_x, data_y = dataset.split_data_x_y(normalized_data)"
   ]
  },
  {
   "cell_type": "code",
   "execution_count": 7,
   "id": "04dfee78",
   "metadata": {},
   "outputs": [],
   "source": [
    "data_x_train, data_x_test = dataset.split_data_train_test(data_x, CONFIG[\"data\"][\"train_split_size\"])\n",
    "data_y_train, data_y_test = dataset.split_data_train_test(data_y, CONFIG[\"data\"][\"train_split_size\"])"
   ]
  },
  {
   "cell_type": "code",
   "execution_count": 8,
   "id": "d32a81f1",
   "metadata": {},
   "outputs": [
    {
     "data": {
      "text/plain": [
       "(43035, 20, 20, 4, 3)"
      ]
     },
     "execution_count": 8,
     "metadata": {},
     "output_type": "execute_result"
    }
   ],
   "source": [
    "data_x_train.shape"
   ]
  },
  {
   "cell_type": "code",
   "execution_count": 10,
   "id": "4005053a",
   "metadata": {},
   "outputs": [],
   "source": [
    "dataset_train = dataset.TimeSeriesDataset(data_x_train, data_y_train)\n",
    "dataset_test = dataset.TimeSeriesDataset(data_x_test, data_y_test)"
   ]
  },
  {
   "cell_type": "code",
   "execution_count": 11,
   "id": "29067445",
   "metadata": {},
   "outputs": [],
   "source": [
    "train_dataloader = DataLoader(dataset_train, CONFIG[\"training\"][\"batch_size\"], shuffle=True)\n",
    "test_dataloader = DataLoader(dataset_test, CONFIG[\"training\"][\"batch_size\"], shuffle=True)"
   ]
  },
  {
   "cell_type": "code",
   "execution_count": null,
   "id": "a1d3decc",
   "metadata": {},
   "outputs": [],
   "source": [
    "model = algorithm.CNNModel(config_model=CONFIG[\"model\"], config_training=CONFIG[\"training\"])"
   ]
  },
  {
   "cell_type": "code",
   "execution_count": null,
   "id": "b04924c6",
   "metadata": {},
   "outputs": [],
   "source": [
    "# Entrenamiento del modelo\n",
    "for epoch in range(CONFIG[\"training\"][\"num_epoch\"]):\n",
    "    loss_train, lr_train = model.run_epoch(train_dataloader, is_training=True)\n",
    "    loss_test, lr_test = model.run_epoch(test_dataloader)\n",
    "    model.scheduler.step()\n",
    "    if epoch == 0 or ((epoch+1)%10 == 0):\n",
    "        print('Epoch[{}/{}] | loss train:{:.6f}, test:{:.6f} | lr:{:.6f}'\n",
    "              .format(epoch+1, CONFIG[\"training\"][\"num_epoch\"], loss_train, loss_test, lr_train))"
   ]
  },
  {
   "cell_type": "code",
   "execution_count": null,
   "id": "91866ff7",
   "metadata": {},
   "outputs": [],
   "source": [
    "import torch\n",
    "\n",
    "correct = 0\n",
    "total = 0\n",
    "with torch.no_grad():\n",
    "    for idx, (x, y) in enumerate(test_dataloader):\n",
    "        x = x.to(CONFIG[\"training\"][\"device\"])\n",
    "        out_batch = model(x)\n",
    "        _, predicted = torch.max(out_batch, 1)\n",
    "        \n",
    "        total += y.size(0)\n",
    "        correct += (predicted == y).sum().item()\n",
    "\n",
    "print('Accuracy of the network on the {0} test images: {1} %'.format(total, 100*correct/total))"
   ]
  }
 ],
 "metadata": {
  "kernelspec": {
   "display_name": "Python 3",
   "language": "python",
   "name": "python3"
  },
  "language_info": {
   "codemirror_mode": {
    "name": "ipython",
    "version": 3
   },
   "file_extension": ".py",
   "mimetype": "text/x-python",
   "name": "python",
   "nbconvert_exporter": "python",
   "pygments_lexer": "ipython3",
   "version": "3.8.3"
  }
 },
 "nbformat": 4,
 "nbformat_minor": 5
}
